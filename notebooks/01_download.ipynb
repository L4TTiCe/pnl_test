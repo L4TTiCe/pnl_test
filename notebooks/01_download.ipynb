{
 "cells": [
  {
   "attachments": {},
   "cell_type": "markdown",
   "id": "b48ef75f-6c7f-4f9f-9ff2-cdc3206fa013",
   "metadata": {},
   "source": [
    "## Download required Files"
   ]
  },
  {
   "attachments": {},
   "cell_type": "markdown",
   "id": "9c5f9c6d-d316-4d74-9375-bfa606701b69",
   "metadata": {},
   "source": [
    "#### Install and Configure Dropbox Python SDK"
   ]
  },
  {
   "cell_type": "code",
   "execution_count": 3,
   "id": "087de408-5644-4fd0-a861-cd9b40061128",
   "metadata": {
    "scrolled": true
   },
   "outputs": [
    {
     "name": "stdout",
     "output_type": "stream",
     "text": [
      "Collecting dropbox\n",
      "  Downloading dropbox-11.36.0-py3-none-any.whl (594 kB)\n",
      "\u001b[2K     \u001b[90m━━━━━━━━━━━━━━━━━━━━━━━━━━━━━━━━━━━━━━━\u001b[0m \u001b[32m594.0/594.0 kB\u001b[0m \u001b[31m4.8 MB/s\u001b[0m eta \u001b[36m0:00:00\u001b[0ma \u001b[36m0:00:01\u001b[0m\n",
      "\u001b[?25hRequirement already satisfied: requests>=2.16.2 in /opt/conda/lib/python3.11/site-packages (from dropbox) (2.31.0)\n",
      "Requirement already satisfied: six>=1.12.0 in /opt/conda/lib/python3.11/site-packages (from dropbox) (1.16.0)\n",
      "Collecting stone>=2.* (from dropbox)\n",
      "  Downloading stone-3.3.1-py3-none-any.whl (162 kB)\n",
      "\u001b[2K     \u001b[90m━━━━━━━━━━━━━━━━━━━━━━━━━━━━━━━━━━━━━━\u001b[0m \u001b[32m162.3/162.3 kB\u001b[0m \u001b[31m29.8 MB/s\u001b[0m eta \u001b[36m0:00:00\u001b[0m\n",
      "\u001b[?25hRequirement already satisfied: charset-normalizer<4,>=2 in /opt/conda/lib/python3.11/site-packages (from requests>=2.16.2->dropbox) (3.1.0)\n",
      "Requirement already satisfied: idna<4,>=2.5 in /opt/conda/lib/python3.11/site-packages (from requests>=2.16.2->dropbox) (3.4)\n",
      "Requirement already satisfied: urllib3<3,>=1.21.1 in /opt/conda/lib/python3.11/site-packages (from requests>=2.16.2->dropbox) (2.0.2)\n",
      "Requirement already satisfied: certifi>=2017.4.17 in /opt/conda/lib/python3.11/site-packages (from requests>=2.16.2->dropbox) (2023.5.7)\n",
      "Collecting ply>=3.4 (from stone>=2.*->dropbox)\n",
      "  Downloading ply-3.11-py2.py3-none-any.whl (49 kB)\n",
      "\u001b[2K     \u001b[90m━━━━━━━━━━━━━━━━━━━━━━━━━━━━━━━━━━━━━━━━\u001b[0m \u001b[32m49.6/49.6 kB\u001b[0m \u001b[31m13.9 MB/s\u001b[0m eta \u001b[36m0:00:00\u001b[0m\n",
      "\u001b[?25hInstalling collected packages: ply, stone, dropbox\n",
      "Successfully installed dropbox-11.36.0 ply-3.11 stone-3.3.1\n"
     ]
    }
   ],
   "source": [
    "!pip install dropbox"
   ]
  },
  {
   "cell_type": "code",
   "execution_count": 30,
   "id": "e01271e6-9c36-4c21-9742-d0908b6f96b2",
   "metadata": {},
   "outputs": [],
   "source": [
    "TOKEN = \"sl.Bf8T-a3wkMhJZk0XfGpXQ3GfzH7EgC1ZXm3oNo5B-wsPxN4zJQQTH3y1sJ2rg47NIYhmc9imL0sThlL5666B1O5RHnJ-KqO1TYHfbUabzAynR6i6Lv_LS6gGp6qrc4UIJR8Aidw\""
   ]
  },
  {
   "cell_type": "code",
   "execution_count": 31,
   "id": "05532bc2-4ba8-4eab-8268-e3df18e768b8",
   "metadata": {},
   "outputs": [],
   "source": [
    "import dropbox\n",
    "\n",
    "dbx = dropbox.Dropbox(TOKEN)"
   ]
  },
  {
   "cell_type": "code",
   "execution_count": 34,
   "id": "7e6b419d-7ca5-4e6c-b0b9-c75ff4f1f3b8",
   "metadata": {},
   "outputs": [],
   "source": [
    "# Specify the remote and local directory paths\n",
    "remote_directory_path = \"/recruitment_project\"\n",
    "local_directory_path = \"/data\""
   ]
  },
  {
   "cell_type": "code",
   "execution_count": 38,
   "id": "19a61f22-fdbc-4b6e-adc6-357ff42250cf",
   "metadata": {},
   "outputs": [
    {
     "name": "stdout",
     "output_type": "stream",
     "text": [
      "/recruitment_project/enroll_data.csv  -->  /data/enroll_data.csv\n",
      "/recruitment_project/atlas-t1w.nii.gz  -->  /data/atlas-T1w.nii.gz\n",
      "/recruitment_project/given-t1w.nii.gz  -->  /data/given-T1w.nii.gz\n",
      "/recruitment_project/atlas-integer-labels.nii.gz  -->  /data/atlas-integer-labels.nii.gz\n"
     ]
    }
   ],
   "source": [
    "import os\n",
    "\n",
    "# Create the local directory if it does not exist\n",
    "if not os.path.exists(local_directory_path):\n",
    "    os.makedirs(local_directory_path)\n",
    "\n",
    "# List all the files in the remote directory\n",
    "result = dbx.files_list_folder(remote_directory_path)\n",
    "\n",
    "# Loop over the files and download each one\n",
    "for entry in result.entries:\n",
    "    # Get the remote file path\n",
    "    remote_file_path = entry.path_lower\n",
    "\n",
    "    # Get the local file path\n",
    "    local_file_path = os.path.join(local_directory_path, entry.name)\n",
    "\n",
    "    print(remote_file_path + \"  -->  \" + local_file_path)\n",
    "\n",
    "    # Download the file\n",
    "    metadata , file_content= dbx.files_download(remote_file_path)\n",
    "\n",
    "    # Write the file content to a local file\n",
    "    with open(local_file_path, \"wb\") as f:\n",
    "        f.write(file_content.content)"
   ]
  },
  {
   "cell_type": "code",
   "execution_count": null,
   "id": "98510b29-6cdd-4177-8506-84bf490ec56c",
   "metadata": {},
   "outputs": [],
   "source": []
  }
 ],
 "metadata": {
  "kernelspec": {
   "display_name": "Python 3 (ipykernel)",
   "language": "python",
   "name": "python3"
  },
  "language_info": {
   "codemirror_mode": {
    "name": "ipython",
    "version": 3
   },
   "file_extension": ".py",
   "mimetype": "text/x-python",
   "name": "python",
   "nbconvert_exporter": "python",
   "pygments_lexer": "ipython3",
   "version": "3.11.3"
  }
 },
 "nbformat": 4,
 "nbformat_minor": 5
}
