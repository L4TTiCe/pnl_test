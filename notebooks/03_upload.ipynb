{
 "cells": [
  {
   "attachments": {},
   "cell_type": "markdown",
   "id": "e7766f97-6eed-4a3d-bd06-724add6ccd16",
   "metadata": {},
   "source": [
    "## Upload Files"
   ]
  },
  {
   "attachments": {},
   "cell_type": "markdown",
   "id": "6aefa117-ab7d-4d4c-9978-f2c9dc10eb31",
   "metadata": {},
   "source": [
    "#### Install and Configure Dropbox Python SDK"
   ]
  },
  {
   "cell_type": "code",
   "execution_count": 1,
   "id": "fedb709a-06ad-4fcb-aeea-2eae1491f7e1",
   "metadata": {
    "scrolled": true
   },
   "outputs": [
    {
     "name": "stdout",
     "output_type": "stream",
     "text": [
      "Collecting dropbox\n",
      "  Downloading dropbox-11.36.2-py3-none-any.whl (594 kB)\n",
      "\u001b[2K     \u001b[90m━━━━━━━━━━━━━━━━━━━━━━━━━━━━━━━━━━━━━\u001b[0m \u001b[32m594.0/594.0 kB\u001b[0m \u001b[31m984.9 kB/s\u001b[0m eta \u001b[36m0:00:00\u001b[0m00:01\u001b[0m00:01\u001b[0m\n",
      "\u001b[?25hRequirement already satisfied: requests>=2.16.2 in /opt/conda/lib/python3.11/site-packages (from dropbox) (2.31.0)\n",
      "Requirement already satisfied: six>=1.12.0 in /opt/conda/lib/python3.11/site-packages (from dropbox) (1.16.0)\n",
      "Collecting stone>=2 (from dropbox)\n",
      "  Downloading stone-3.3.1-py3-none-any.whl (162 kB)\n",
      "\u001b[2K     \u001b[90m━━━━━━━━━━━━━━━━━━━━━━━━━━━━━━━━━━━━━\u001b[0m \u001b[32m162.3/162.3 kB\u001b[0m \u001b[31m936.8 kB/s\u001b[0m eta \u001b[36m0:00:00\u001b[0ma \u001b[36m0:00:01\u001b[0m\n",
      "\u001b[?25hRequirement already satisfied: charset-normalizer<4,>=2 in /opt/conda/lib/python3.11/site-packages (from requests>=2.16.2->dropbox) (3.1.0)\n",
      "Requirement already satisfied: idna<4,>=2.5 in /opt/conda/lib/python3.11/site-packages (from requests>=2.16.2->dropbox) (3.4)\n",
      "Requirement already satisfied: urllib3<3,>=1.21.1 in /opt/conda/lib/python3.11/site-packages (from requests>=2.16.2->dropbox) (2.0.2)\n",
      "Requirement already satisfied: certifi>=2017.4.17 in /opt/conda/lib/python3.11/site-packages (from requests>=2.16.2->dropbox) (2023.5.7)\n",
      "Collecting ply>=3.4 (from stone>=2->dropbox)\n",
      "  Downloading ply-3.11-py2.py3-none-any.whl (49 kB)\n",
      "\u001b[2K     \u001b[90m━━━━━━━━━━━━━━━━━━━━━━━━━━━━━━━━━━━━━━━━\u001b[0m \u001b[32m49.6/49.6 kB\u001b[0m \u001b[31m1.2 MB/s\u001b[0m eta \u001b[36m0:00:00\u001b[0ma \u001b[36m0:00:01\u001b[0m\n",
      "\u001b[?25hInstalling collected packages: ply, stone, dropbox\n",
      "Successfully installed dropbox-11.36.2 ply-3.11 stone-3.3.1\n"
     ]
    }
   ],
   "source": [
    "!pip install dropbox"
   ]
  },
  {
   "cell_type": "code",
   "execution_count": 2,
   "id": "7b404574-5d4f-4646-bc93-dca37bed5ae5",
   "metadata": {},
   "outputs": [],
   "source": [
    "TOKEN = \"\""
   ]
  },
  {
   "cell_type": "code",
   "execution_count": 3,
   "id": "9a1ef4f4-45ac-4b9e-8630-264140586ddf",
   "metadata": {},
   "outputs": [],
   "source": [
    "import dropbox\n",
    "\n",
    "def dropbox_upload_file(local_file_path, dropbox_file_path, token):\n",
    "    \"\"\"\n",
    "    Upload a file from the local machine to a path in the Dropbox app directory.\n",
    "\n",
    "    Args:\n",
    "        local_file_path (str): The path to the local file.\n",
    "        dropbox_file_path (str): The path to the file in the Dropbox app directory.\n",
    "\n",
    "    Example:\n",
    "        dropbox_upload_file('/data/test.csv', '/stuff/test.csv', dropbox_token)\n",
    "\n",
    "    Returns:\n",
    "        meta: The Dropbox file metadata.\n",
    "    \"\"\"\n",
    "\n",
    "    try:\n",
    "        dbx = dropbox.Dropbox(token)\n",
    "\n",
    "        with open(local_file_path, \"rb\") as f:\n",
    "            meta = dbx.files_upload(f.read(), dropbox_file_path, mode=dropbox.files.WriteMode(\"overwrite\"))\n",
    "\n",
    "            return meta\n",
    "    except Exception as e:\n",
    "        print('Error uploading file to Dropbox: ' + str(e))"
   ]
  },
  {
   "cell_type": "code",
   "execution_count": null,
   "id": "7f8e2289-0b67-4471-b6d0-88501ac61956",
   "metadata": {},
   "outputs": [],
   "source": []
  },
  {
   "cell_type": "code",
   "execution_count": 5,
   "id": "5632b058-137b-44db-b200-5484620a91eb",
   "metadata": {},
   "outputs": [
    {
     "data": {
      "text/plain": [
       "FileMetadata(client_modified=datetime.datetime(2023, 6, 10, 15, 51, 28), content_hash='eb63b565a82b87a1497cc2dd3049040cd8b1a4efc3a7ea7b24bb1ba0a2516435', export_info=NOT_SET, file_lock_info=NOT_SET, has_explicit_shared_members=NOT_SET, id='id:yj3Q5XsQAiAAAAAAAAABYw', is_downloadable=True, media_info=NOT_SET, name='enroll_data_anon_DM.csv', parent_shared_folder_id=NOT_SET, path_display='/test/enroll_data_anon_DM.csv', path_lower='/test/enroll_data_anon_dm.csv', preview_url=NOT_SET, property_groups=NOT_SET, rev='5fdc875683674576ce469', server_modified=datetime.datetime(2023, 6, 10, 15, 51, 28), sharing_info=NOT_SET, size=217117, symlink_info=NOT_SET)"
      ]
     },
     "execution_count": 5,
     "metadata": {},
     "output_type": "execute_result"
    }
   ],
   "source": [
    "local_file_path = \"/data/enroll_data_anon_DM.csv\"\n",
    "remote_path = \"/test/enroll_data_anon_DM.csv\"\n",
    "\n",
    "meta = dropbox_upload_file(local_file_path, remote_path, TOKEN)\n",
    "meta"
   ]
  },
  {
   "cell_type": "code",
   "execution_count": 6,
   "id": "9235669b-bb97-4b51-a101-9413e2a56391",
   "metadata": {},
   "outputs": [
    {
     "data": {
      "text/plain": [
       "FileMetadata(client_modified=datetime.datetime(2023, 6, 14, 21, 49, 12), content_hash='15213c47c0f6d8d440d17273dcc31da9bea32c54ccb08e86f64c882f7aef5128', export_info=NOT_SET, file_lock_info=NOT_SET, has_explicit_shared_members=NOT_SET, id='id:yj3Q5XsQAiAAAAAAAAABaA', is_downloadable=True, media_info=NOT_SET, name='enroll_data_offset_DM.csv', parent_shared_folder_id=NOT_SET, path_display='/test/enroll_data_offset_DM.csv', path_lower='/test/enroll_data_offset_dm.csv', preview_url=NOT_SET, property_groups=NOT_SET, rev='5fe1dec28b2d1576ce469', server_modified=datetime.datetime(2023, 6, 14, 21, 49, 13), sharing_info=NOT_SET, size=86304, symlink_info=NOT_SET)"
      ]
     },
     "execution_count": 6,
     "metadata": {},
     "output_type": "execute_result"
    }
   ],
   "source": [
    "local_file_path = \"/data/enroll_data_offset_DM.csv\"\n",
    "remote_path = \"/test/enroll_data_offset_DM.csv\"\n",
    "\n",
    "meta = dropbox_upload_file(local_file_path, remote_path, TOKEN)\n",
    "meta"
   ]
  },
  {
   "cell_type": "code",
   "execution_count": 7,
   "id": "dd76684b-56c1-48bf-ae18-95a0be84b54a",
   "metadata": {},
   "outputs": [
    {
     "data": {
      "text/plain": [
       "FileMetadata(client_modified=datetime.datetime(2023, 6, 14, 21, 49, 53), content_hash='15213c47c0f6d8d440d17273dcc31da9bea32c54ccb08e86f64c882f7aef5128', export_info=NOT_SET, file_lock_info=NOT_SET, has_explicit_shared_members=NOT_SET, id='id:yj3Q5XsQAiAAAAAAAAABaQ', is_downloadable=True, media_info=NOT_SET, name='task_2_DM.csv', parent_shared_folder_id=NOT_SET, path_display='/test/task_2_DM.csv', path_lower='/test/task_2_dm.csv', preview_url=NOT_SET, property_groups=NOT_SET, rev='5fe1dee9763e6576ce469', server_modified=datetime.datetime(2023, 6, 14, 21, 49, 53), sharing_info=NOT_SET, size=86304, symlink_info=NOT_SET)"
      ]
     },
     "execution_count": 7,
     "metadata": {},
     "output_type": "execute_result"
    }
   ],
   "source": [
    "local_file_path = \"/data/enroll_data_offset_DM.csv\"\n",
    "remote_path = \"/test/task_2_DM.csv\"\n",
    "\n",
    "meta = dropbox_upload_file(local_file_path, remote_path, TOKEN)\n",
    "meta"
   ]
  },
  {
   "cell_type": "code",
   "execution_count": null,
   "id": "7919543c-5b2b-40b4-aacb-0b40a164e615",
   "metadata": {},
   "outputs": [],
   "source": []
  }
 ],
 "metadata": {
  "kernelspec": {
   "display_name": "Python 3 (ipykernel)",
   "language": "python",
   "name": "python3"
  },
  "language_info": {
   "codemirror_mode": {
    "name": "ipython",
    "version": 3
   },
   "file_extension": ".py",
   "mimetype": "text/x-python",
   "name": "python",
   "nbconvert_exporter": "python",
   "pygments_lexer": "ipython3",
   "version": "3.11.3"
  }
 },
 "nbformat": 4,
 "nbformat_minor": 5
}
